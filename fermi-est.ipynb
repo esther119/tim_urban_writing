{
 "cells": [
  {
   "cell_type": "code",
   "execution_count": 2,
   "metadata": {},
   "outputs": [
    {
     "data": {
      "text/html": [
       "<div>\n",
       "<style scoped>\n",
       "    .dataframe tbody tr th:only-of-type {\n",
       "        vertical-align: middle;\n",
       "    }\n",
       "\n",
       "    .dataframe tbody tr th {\n",
       "        vertical-align: top;\n",
       "    }\n",
       "\n",
       "    .dataframe thead th {\n",
       "        text-align: right;\n",
       "    }\n",
       "</style>\n",
       "<table border=\"1\" class=\"dataframe\">\n",
       "  <thead>\n",
       "    <tr style=\"text-align: right;\">\n",
       "      <th></th>\n",
       "      <th>date</th>\n",
       "      <th>url</th>\n",
       "      <th>title</th>\n",
       "      <th>length</th>\n",
       "      <th>tokens</th>\n",
       "      <th>transcript</th>\n",
       "    </tr>\n",
       "  </thead>\n",
       "  <tbody>\n",
       "    <tr>\n",
       "      <th>0</th>\n",
       "      <td>March 2, 2016</td>\n",
       "      <td>https://waitbutwhy.com/2016/03/doing</td>\n",
       "      <td>Doing a TED Talk: The Full Story</td>\n",
       "      <td>24576</td>\n",
       "      <td>4510</td>\n",
       "      <td>You’ve probably heard this Seinfeld joke: Acco...</td>\n",
       "    </tr>\n",
       "    <tr>\n",
       "      <th>1</th>\n",
       "      <td>March 9, 2016</td>\n",
       "      <td>https://waitbutwhy.com/2016/03/sound</td>\n",
       "      <td>Everything You Should Know About Sound</td>\n",
       "      <td>18581</td>\n",
       "      <td>3344</td>\n",
       "      <td>This post is part of Mini Week, where I’m post...</td>\n",
       "    </tr>\n",
       "    <tr>\n",
       "      <th>2</th>\n",
       "      <td>May 21, 2014</td>\n",
       "      <td>https://waitbutwhy.com/2014/05/fermi</td>\n",
       "      <td>The Fermi Paradox</td>\n",
       "      <td>28262</td>\n",
       "      <td>4797</td>\n",
       "      <td>PDF: We made a fancy PDF of this post for prin...</td>\n",
       "    </tr>\n",
       "    <tr>\n",
       "      <th>3</th>\n",
       "      <td>January 22, 2015</td>\n",
       "      <td>https://waitbutwhy.com/2015/01/artificial</td>\n",
       "      <td>The AI Revolution: The Road to Superintelligence</td>\n",
       "      <td>46415</td>\n",
       "      <td>8026</td>\n",
       "      <td>PDF: We made a fancy PDF of this post for prin...</td>\n",
       "    </tr>\n",
       "    <tr>\n",
       "      <th>4</th>\n",
       "      <td>September 5, 2013</td>\n",
       "      <td>https://waitbutwhy.com/2013/08/putting</td>\n",
       "      <td>Putting All the World’s Water into a Big Cube</td>\n",
       "      <td>3116</td>\n",
       "      <td>584</td>\n",
       "      <td>One of the most boggling experiences I have is...</td>\n",
       "    </tr>\n",
       "  </tbody>\n",
       "</table>\n",
       "</div>"
      ],
      "text/plain": [
       "                date                                        url  \\\n",
       "0      March 2, 2016       https://waitbutwhy.com/2016/03/doing   \n",
       "1      March 9, 2016       https://waitbutwhy.com/2016/03/sound   \n",
       "2       May 21, 2014       https://waitbutwhy.com/2014/05/fermi   \n",
       "3   January 22, 2015  https://waitbutwhy.com/2015/01/artificial   \n",
       "4  September 5, 2013     https://waitbutwhy.com/2013/08/putting   \n",
       "\n",
       "                                              title  length  tokens  \\\n",
       "0                  Doing a TED Talk: The Full Story   24576    4510   \n",
       "1            Everything You Should Know About Sound   18581    3344   \n",
       "2                                 The Fermi Paradox   28262    4797   \n",
       "3  The AI Revolution: The Road to Superintelligence   46415    8026   \n",
       "4     Putting All the World’s Water into a Big Cube    3116     584   \n",
       "\n",
       "                                          transcript  \n",
       "0  You’ve probably heard this Seinfeld joke: Acco...  \n",
       "1  This post is part of Mini Week, where I’m post...  \n",
       "2  PDF: We made a fancy PDF of this post for prin...  \n",
       "3  PDF: We made a fancy PDF of this post for prin...  \n",
       "4  One of the most boggling experiences I have is...  "
      ]
     },
     "execution_count": 2,
     "metadata": {},
     "output_type": "execute_result"
    }
   ],
   "source": [
    "#read csv to df\n",
    "import pandas as pd \n",
    "df = pd.read_csv('waitbutwhy.csv')\n",
    "\n",
    "df.head()"
   ]
  },
  {
   "cell_type": "code",
   "execution_count": 3,
   "metadata": {},
   "outputs": [
    {
     "data": {
      "text/plain": [
       "211077"
      ]
     },
     "execution_count": 3,
     "metadata": {},
     "output_type": "execute_result"
    }
   ],
   "source": [
    "#token count\n",
    "df['tokens'].sum(axis=0)"
   ]
  },
  {
   "cell_type": "code",
   "execution_count": 5,
   "metadata": {},
   "outputs": [
    {
     "data": {
      "text/plain": [
       "0.633231"
      ]
     },
     "execution_count": 5,
     "metadata": {},
     "output_type": "execute_result"
    }
   ],
   "source": [
    "211077* 0.003 /1000"
   ]
  },
  {
   "cell_type": "code",
   "execution_count": null,
   "metadata": {},
   "outputs": [],
   "source": []
  }
 ],
 "metadata": {
  "kernelspec": {
   "display_name": "tim-urban-env",
   "language": "python",
   "name": "python3"
  },
  "language_info": {
   "codemirror_mode": {
    "name": "ipython",
    "version": 3
   },
   "file_extension": ".py",
   "mimetype": "text/x-python",
   "name": "python",
   "nbconvert_exporter": "python",
   "pygments_lexer": "ipython3",
   "version": "3.9.1"
  },
  "orig_nbformat": 4
 },
 "nbformat": 4,
 "nbformat_minor": 2
}
